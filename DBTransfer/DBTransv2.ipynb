{
 "cells": [
  {
   "attachments": {},
   "cell_type": "markdown",
   "metadata": {},
   "source": [
    "Imports & Env"
   ]
  },
  {
   "cell_type": "code",
   "execution_count": null,
   "metadata": {},
   "outputs": [],
   "source": [
    "import datetime\n",
    "import os\n",
    "from pymongo import MongoClient, collection\n",
    "import mysql.connector\n",
    "from mysql.connector import Error\n",
    "from mysql.connector.connection import MySQLConnection\n",
    "from mysql.connector.cursor import MySQLCursor\n",
    "from mysql.connector.cursor_cext import CMySQLCursor\n",
    "import pandas as pd\n",
    "%load_ext dotenv\n",
    "%dotenv"
   ]
  },
  {
   "attachments": {},
   "cell_type": "markdown",
   "metadata": {},
   "source": [
    "Load ENV"
   ]
  },
  {
   "cell_type": "code",
   "execution_count": null,
   "metadata": {},
   "outputs": [],
   "source": [
    "host = os.getenv(\"DBHost\")\n",
    "mongoPort = os.getenv(\"mongoPort\")\n",
    "mySQLPort = os.getenv(\"mySQLPort\")\n",
    "user = os.getenv(\"DBUser\")\n",
    "password = os.getenv(\"DBPass\")"
   ]
  },
  {
   "attachments": {},
   "cell_type": "markdown",
   "metadata": {},
   "source": [
    "Define methods for DB connections"
   ]
  },
  {
   "cell_type": "code",
   "execution_count": null,
   "metadata": {},
   "outputs": [],
   "source": [
    "def DBTGetMongoConnection(database, collection):\n",
    "    client = MongoClient('mongodb://'+user+\":\"+password+\"@\"+host+\":\"+str(mongoPort))\n",
    "    \n",
    "    db = client[database]\n",
    "    if collection not in db.list_collection_names():\n",
    "        return LookupError\n",
    "    collection = db[collection]\n",
    "    return collection\n",
    "\n",
    "def DBTGetMySQLConnection(database):\n",
    "    try:\n",
    "        connection = mysql.connector.connect(\n",
    "            host=host,\n",
    "            port=mySQLPort,\n",
    "            database = database,\n",
    "            user=user,\n",
    "            password=password\n",
    "        )\n",
    "\n",
    "        if connection.is_connected():\n",
    "            return connection\n",
    "\n",
    "    except Error as e:\n",
    "        print(\"Error while connecting to MySQL\", e)"
   ]
  },
  {
   "attachments": {},
   "cell_type": "markdown",
   "metadata": {},
   "source": [
    "Define sql helpers"
   ]
  },
  {
   "cell_type": "code",
   "execution_count": null,
   "metadata": {},
   "outputs": [],
   "source": [
    "# Gets all items from the selected table\n",
    "def DBTGetAllItemsInSQLTable(cursor, table):\n",
    "    query = f\"SELECT * FROM {table}\"\n",
    "    cursor.execute(query)\n",
    "    entries = cursor.fetchall()\n",
    "    columnNames = [desc[0] for desc in cursor.description]\n",
    "    return pd.DataFrame(entries,columns=columnNames)\n",
    "\n",
    "# ReEncoder to fix some encoding errors in the database causing mismatches with the kadaster dataset\n",
    "def DBTReEncodeAddresses(dataframe: pd.DataFrame, columnName):\n",
    "    dataframe[columnName] = dataframe[columnName].astype(str).apply(lambda x: x.encode('latin-1',\"ignore\").decode('utf8'))\n",
    "    return dataframe\n",
    "\n",
    "# Formatter to make addresses in the SQL database compatible with the kadaster dataset\n",
    "def DBTConcatMySQLAddresses(dataframe: pd.DataFrame):\n",
    "    dataframe[\"adres\"] = (\n",
    "        dataframe[\"straat\"].astype(str) \n",
    "        +\" \"\n",
    "        +dataframe[\"huisnummer\"].astype(str)\n",
    "        +dataframe[\"huisletter\"].apply(lambda x: x if x is not None else \"\").apply(str.upper)\n",
    "        +dataframe[\"huisnummertoevoeging\"].apply(lambda x: \" \"+ x if x is not None else \"\")\n",
    "    )\n",
    "    return dataframe\n",
    "\n",
    "\n",
    "def DBTSaveDFToSQL(dataframe: pd.DataFrame, connection: MySQLConnection, table_name: str, primary_key_column: str) -> None:\n",
    "    cursor: CMySQLCursor = connection.cursor()\n",
    "\n",
    "    # Check if the table exists, create it if it doesn't\n",
    "    cursor.execute(f\"SHOW TABLES LIKE '{table_name}'\")\n",
    "    table_exists = cursor.fetchone()\n",
    "\n",
    "    if table_exists is None:\n",
    "        # Create table with all columns from DataFrame\n",
    "        columns = ', '.join([f'{column} TEXT' for column in dataframe.columns])\n",
    "        create_table_query = f\"CREATE TABLE {table_name} ({columns}, PRIMARY KEY ({primary_key_column}(255)));\"\n",
    "        cursor.execute(create_table_query)\n",
    "\n",
    "    # Check if primary key column exists, add it if it doesn't\n",
    "    cursor.execute(f\"SHOW COLUMNS FROM {table_name} WHERE Field = %s\", (primary_key_column,))\n",
    "    primary_key_exists = cursor.fetchone()\n",
    "\n",
    "    if primary_key_exists is None:\n",
    "        add_primary_key_query = f\"ALTER TABLE {table_name} ADD COLUMN {primary_key_column} INT PRIMARY KEY AUTO_INCREMENT;\"\n",
    "        cursor.execute(add_primary_key_query)\n",
    "\n",
    "    # Get the columns present in the database table\n",
    "    cursor.execute(f\"SHOW COLUMNS FROM {table_name}\")\n",
    "    db_columns = [column[0] for column in cursor.fetchall()]\n",
    "\n",
    "    # Iterate over the rows in the DataFrame\n",
    "    for _, row in dataframe.iterrows():\n",
    "        primary_key_value = row[primary_key_column]\n",
    "\n",
    "        # Check if the record already exists in the table\n",
    "        query = f\"SELECT * FROM {table_name} WHERE {primary_key_column} = %s\"\n",
    "        cursor.execute(query, (primary_key_value,))\n",
    "        existing_record = cursor.fetchone()\n",
    "\n",
    "        # If the record doesn't exist, insert a new one\n",
    "        if existing_record is None:\n",
    "            columns = [column for column in dataframe.columns if column in db_columns]\n",
    "            values = ', '.join(['%s'] * len(columns))\n",
    "            insert_query = f\"INSERT INTO {table_name} ({', '.join(columns)}) VALUES ({values})\"\n",
    "            cursor.execute(insert_query, tuple(row[column] for column in columns))\n",
    "\n",
    "        # If the record exists, update the empty values\n",
    "        else:\n",
    "            update_values = [(column, row[column]) for column in dataframe.columns if\n",
    "                             existing_record[dataframe.columns.get_loc(column)] is None]\n",
    "            if update_values:\n",
    "                set_values = ', '.join([f\"{column} = %s\" for column, _ in update_values])\n",
    "                update_query = f\"UPDATE {table_name} SET {set_values} WHERE {primary_key_column} = %s\"\n",
    "                cursor.execute(update_query, tuple([value for _, value in update_values] + [primary_key_value]))\n",
    "        \n",
    "    connection.commit()\n",
    "    cursor.close()\n",
    "\n"
   ]
  },
  {
   "attachments": {},
   "cell_type": "markdown",
   "metadata": {},
   "source": [
    "Get initial data from the datawarehouse"
   ]
  },
  {
   "cell_type": "code",
   "execution_count": null,
   "metadata": {},
   "outputs": [],
   "source": [
    "mongoConnection = DBTGetMongoConnection(\"kadasterdata_nl\",\"kadasterdata\")\n",
    "kadasterData = pd.DataFrame(mongoConnection.find({}))\n",
    "kadasterData\n",
    "\n"
   ]
  },
  {
   "attachments": {},
   "cell_type": "markdown",
   "metadata": {},
   "source": [
    "Get initial data from mySQL"
   ]
  },
  {
   "cell_type": "code",
   "execution_count": null,
   "metadata": {},
   "outputs": [],
   "source": [
    "SQLConnection = DBTGetMySQLConnection(\"dbDEDSv2\")\n",
    "locatieData = DBTGetAllItemsInSQLTable(SQLConnection.cursor(),\"Locatie\")\n",
    "# Use the reEncoder to fix some encoding errors in the \"straat\" column and format the loose address parts into one column called \"adres\"\n",
    "LocatieData = DBTConcatMySQLAddresses(DBTReEncodeAddresses(locatieData,\"straat\"))\n",
    "\n",
    "# SQLConnection = DBTGetMySQLConnection(\"Test\")\n",
    "\n",
    "# DBTSaveDFToSQL(locatieData,SQLConnection,\"Locatie\",\"id\")\n",
    "\n"
   ]
  },
  {
   "attachments": {},
   "cell_type": "markdown",
   "metadata": {},
   "source": [
    "Merge the dataset and discard unused rows"
   ]
  },
  {
   "cell_type": "code",
   "execution_count": null,
   "metadata": {},
   "outputs": [],
   "source": [
    "kadasterData.drop(kadasterData.index[kadasterData['address'] == \"Van Beverningkstraat 103\"], inplace = True)\n"
   ]
  }
 ],
 "metadata": {
  "kernelspec": {
   "display_name": ".venv",
   "language": "python",
   "name": "python3"
  },
  "language_info": {
   "codemirror_mode": {
    "name": "ipython",
    "version": 3
   },
   "file_extension": ".py",
   "mimetype": "text/x-python",
   "name": "python",
   "nbconvert_exporter": "python",
   "pygments_lexer": "ipython3",
   "version": "3.10.6"
  },
  "orig_nbformat": 4
 },
 "nbformat": 4,
 "nbformat_minor": 2
}
